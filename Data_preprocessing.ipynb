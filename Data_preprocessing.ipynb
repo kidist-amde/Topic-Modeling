{
 "cells": [
  {
   "cell_type": "code",
   "execution_count": 1,
   "metadata": {},
   "outputs": [
    {
     "name": "stdout",
     "output_type": "stream",
     "text": [
      "Requirement already satisfied: textblob in /home/kidist/anaconda3/envs/yanis-env/lib/python3.6/site-packages (from -r requirements.txt (line 1)) (0.15.3)\n",
      "Requirement already satisfied: seaborn in /home/kidist/anaconda3/envs/yanis-env/lib/python3.6/site-packages (from -r requirements.txt (line 2)) (0.11.1)\n",
      "Requirement already satisfied: wordcloud in /home/kidist/anaconda3/envs/yanis-env/lib/python3.6/site-packages (from -r requirements.txt (line 3)) (1.8.1)\n",
      "Requirement already satisfied: scikit-learn in /home/kidist/anaconda3/envs/yanis-env/lib/python3.6/site-packages (from -r requirements.txt (line 4)) (0.24.1)\n",
      "Requirement already satisfied: nltk in /home/kidist/anaconda3/envs/yanis-env/lib/python3.6/site-packages (from -r requirements.txt (line 5)) (3.5)\n",
      "Requirement already satisfied: numpy in /home/kidist/anaconda3/envs/yanis-env/lib/python3.6/site-packages (from -r requirements.txt (line 6)) (1.19.5)\n",
      "Requirement already satisfied: pandas in /home/kidist/anaconda3/envs/yanis-env/lib/python3.6/site-packages (from -r requirements.txt (line 7)) (1.1.5)\n",
      "Requirement already satisfied: matplotlib in /home/kidist/anaconda3/envs/yanis-env/lib/python3.6/site-packages (from -r requirements.txt (line 8)) (3.3.4)\n",
      "Requirement already satisfied: kiwisolver>=1.0.1 in /home/kidist/anaconda3/envs/yanis-env/lib/python3.6/site-packages (from matplotlib->-r requirements.txt (line 8)) (1.3.1)\n",
      "Requirement already satisfied: cycler>=0.10 in /home/kidist/anaconda3/envs/yanis-env/lib/python3.6/site-packages (from matplotlib->-r requirements.txt (line 8)) (0.10.0)\n",
      "Requirement already satisfied: pyparsing!=2.0.4,!=2.1.2,!=2.1.6,>=2.0.3 in /home/kidist/anaconda3/envs/yanis-env/lib/python3.6/site-packages (from matplotlib->-r requirements.txt (line 8)) (2.4.7)\n",
      "Requirement already satisfied: pillow>=6.2.0 in /home/kidist/anaconda3/envs/yanis-env/lib/python3.6/site-packages (from matplotlib->-r requirements.txt (line 8)) (8.1.0)\n",
      "Requirement already satisfied: python-dateutil>=2.1 in /home/kidist/anaconda3/envs/yanis-env/lib/python3.6/site-packages (from matplotlib->-r requirements.txt (line 8)) (2.8.1)\n",
      "Requirement already satisfied: six in /home/kidist/anaconda3/envs/yanis-env/lib/python3.6/site-packages (from cycler>=0.10->matplotlib->-r requirements.txt (line 8)) (1.15.0)\n",
      "Requirement already satisfied: regex in /home/kidist/anaconda3/envs/yanis-env/lib/python3.6/site-packages (from nltk->-r requirements.txt (line 5)) (2020.11.13)\n",
      "Requirement already satisfied: tqdm in /home/kidist/anaconda3/envs/yanis-env/lib/python3.6/site-packages (from nltk->-r requirements.txt (line 5)) (4.56.0)\n",
      "Requirement already satisfied: joblib in /home/kidist/anaconda3/envs/yanis-env/lib/python3.6/site-packages (from nltk->-r requirements.txt (line 5)) (1.0.0)\n",
      "Requirement already satisfied: click in /home/kidist/anaconda3/envs/yanis-env/lib/python3.6/site-packages (from nltk->-r requirements.txt (line 5)) (7.1.2)\n",
      "Requirement already satisfied: pytz>=2017.2 in /home/kidist/anaconda3/envs/yanis-env/lib/python3.6/site-packages (from pandas->-r requirements.txt (line 7)) (2020.5)\n",
      "Requirement already satisfied: scipy>=0.19.1 in /home/kidist/anaconda3/envs/yanis-env/lib/python3.6/site-packages (from scikit-learn->-r requirements.txt (line 4)) (1.5.4)\n",
      "Requirement already satisfied: threadpoolctl>=2.0.0 in /home/kidist/anaconda3/envs/yanis-env/lib/python3.6/site-packages (from scikit-learn->-r requirements.txt (line 4)) (2.1.0)\n",
      "Note: you may need to restart the kernel to use updated packages.\n"
     ]
    }
   ],
   "source": [
    "%pip install -r requirements.txt"
   ]
  },
  {
   "cell_type": "code",
   "execution_count": 8,
   "metadata": {},
   "outputs": [],
   "source": [
    "import pandas as pd\n",
    "import numpy as np\n",
    "import re\n",
    "import matplotlib.pyplot as plt\n",
    "\n",
    "# plot\n",
    "import seaborn as sns\n",
    "from matplotlib.cm import ScalarMappable\n",
    "from matplotlib import rcParams\n",
    "rcParams['figure.figsize'] = 10,7.5\n",
    "rcParams['figure.dpi'] = 80"
   ]
  },
  {
   "cell_type": "code",
   "execution_count": 9,
   "metadata": {},
   "outputs": [],
   "source": [
    "tweets = pd.read_csv(\"../data/covid19_tweets1.csv\")"
   ]
  },
  {
   "cell_type": "code",
   "execution_count": 10,
   "metadata": {},
   "outputs": [
    {
     "data": {
      "text/html": [
       "<div>\n",
       "<style scoped>\n",
       "    .dataframe tbody tr th:only-of-type {\n",
       "        vertical-align: middle;\n",
       "    }\n",
       "\n",
       "    .dataframe tbody tr th {\n",
       "        vertical-align: top;\n",
       "    }\n",
       "\n",
       "    .dataframe thead th {\n",
       "        text-align: right;\n",
       "    }\n",
       "</style>\n",
       "<table border=\"1\" class=\"dataframe\">\n",
       "  <thead>\n",
       "    <tr style=\"text-align: right;\">\n",
       "      <th></th>\n",
       "      <th>user_name</th>\n",
       "      <th>user_location</th>\n",
       "      <th>user_description</th>\n",
       "      <th>user_created</th>\n",
       "      <th>user_followers</th>\n",
       "      <th>user_friends</th>\n",
       "      <th>user_favourites</th>\n",
       "      <th>user_verified</th>\n",
       "      <th>date</th>\n",
       "      <th>text</th>\n",
       "      <th>hashtags</th>\n",
       "      <th>source</th>\n",
       "      <th>is_retweet</th>\n",
       "    </tr>\n",
       "  </thead>\n",
       "  <tbody>\n",
       "    <tr>\n",
       "      <th>0</th>\n",
       "      <td>ᏉᎥ☻լꂅϮ</td>\n",
       "      <td>astroworld</td>\n",
       "      <td>wednesday addams as a disney princess keepin i...</td>\n",
       "      <td>2017-05-26 05:46:42</td>\n",
       "      <td>624</td>\n",
       "      <td>950</td>\n",
       "      <td>18775</td>\n",
       "      <td>False</td>\n",
       "      <td>2020-07-25 12:27:21</td>\n",
       "      <td>If I smelled the scent of hand sanitizers toda...</td>\n",
       "      <td>NaN</td>\n",
       "      <td>Twitter for iPhone</td>\n",
       "      <td>False</td>\n",
       "    </tr>\n",
       "    <tr>\n",
       "      <th>1</th>\n",
       "      <td>Tom Basile 🇺🇸</td>\n",
       "      <td>New York, NY</td>\n",
       "      <td>Husband, Father, Columnist &amp; Commentator. Auth...</td>\n",
       "      <td>2009-04-16 20:06:23</td>\n",
       "      <td>2253</td>\n",
       "      <td>1677</td>\n",
       "      <td>24</td>\n",
       "      <td>True</td>\n",
       "      <td>2020-07-25 12:27:17</td>\n",
       "      <td>Hey @Yankees @YankeesPR and @MLB - wouldn't it...</td>\n",
       "      <td>NaN</td>\n",
       "      <td>Twitter for Android</td>\n",
       "      <td>False</td>\n",
       "    </tr>\n",
       "    <tr>\n",
       "      <th>2</th>\n",
       "      <td>Time4fisticuffs</td>\n",
       "      <td>Pewee Valley, KY</td>\n",
       "      <td>#Christian #Catholic #Conservative #Reagan #Re...</td>\n",
       "      <td>2009-02-28 18:57:41</td>\n",
       "      <td>9275</td>\n",
       "      <td>9525</td>\n",
       "      <td>7254</td>\n",
       "      <td>False</td>\n",
       "      <td>2020-07-25 12:27:14</td>\n",
       "      <td>@diane3443 @wdunlap @realDonaldTrump Trump nev...</td>\n",
       "      <td>['COVID19']</td>\n",
       "      <td>Twitter for Android</td>\n",
       "      <td>False</td>\n",
       "    </tr>\n",
       "    <tr>\n",
       "      <th>3</th>\n",
       "      <td>ethel mertz</td>\n",
       "      <td>Stuck in the Middle</td>\n",
       "      <td>#Browns #Indians #ClevelandProud #[]_[] #Cavs ...</td>\n",
       "      <td>2019-03-07 01:45:06</td>\n",
       "      <td>197</td>\n",
       "      <td>987</td>\n",
       "      <td>1488</td>\n",
       "      <td>False</td>\n",
       "      <td>2020-07-25 12:27:10</td>\n",
       "      <td>@brookbanktv The one gift #COVID19 has give me...</td>\n",
       "      <td>['COVID19']</td>\n",
       "      <td>Twitter for iPhone</td>\n",
       "      <td>False</td>\n",
       "    </tr>\n",
       "    <tr>\n",
       "      <th>4</th>\n",
       "      <td>DIPR-J&amp;K</td>\n",
       "      <td>Jammu and Kashmir</td>\n",
       "      <td>🖊️Official Twitter handle of Department of Inf...</td>\n",
       "      <td>2017-02-12 06:45:15</td>\n",
       "      <td>101009</td>\n",
       "      <td>168</td>\n",
       "      <td>101</td>\n",
       "      <td>False</td>\n",
       "      <td>2020-07-25 12:27:08</td>\n",
       "      <td>25 July : Media Bulletin on Novel #CoronaVirus...</td>\n",
       "      <td>['CoronaVirusUpdates', 'COVID19']</td>\n",
       "      <td>Twitter for Android</td>\n",
       "      <td>False</td>\n",
       "    </tr>\n",
       "  </tbody>\n",
       "</table>\n",
       "</div>"
      ],
      "text/plain": [
       "         user_name         user_location  \\\n",
       "0           ᏉᎥ☻լꂅϮ            astroworld   \n",
       "1    Tom Basile 🇺🇸          New York, NY   \n",
       "2  Time4fisticuffs      Pewee Valley, KY   \n",
       "3      ethel mertz  Stuck in the Middle    \n",
       "4         DIPR-J&K     Jammu and Kashmir   \n",
       "\n",
       "                                    user_description         user_created  \\\n",
       "0  wednesday addams as a disney princess keepin i...  2017-05-26 05:46:42   \n",
       "1  Husband, Father, Columnist & Commentator. Auth...  2009-04-16 20:06:23   \n",
       "2  #Christian #Catholic #Conservative #Reagan #Re...  2009-02-28 18:57:41   \n",
       "3  #Browns #Indians #ClevelandProud #[]_[] #Cavs ...  2019-03-07 01:45:06   \n",
       "4  🖊️Official Twitter handle of Department of Inf...  2017-02-12 06:45:15   \n",
       "\n",
       "   user_followers  user_friends  user_favourites  user_verified  \\\n",
       "0             624           950            18775          False   \n",
       "1            2253          1677               24           True   \n",
       "2            9275          9525             7254          False   \n",
       "3             197           987             1488          False   \n",
       "4          101009           168              101          False   \n",
       "\n",
       "                  date                                               text  \\\n",
       "0  2020-07-25 12:27:21  If I smelled the scent of hand sanitizers toda...   \n",
       "1  2020-07-25 12:27:17  Hey @Yankees @YankeesPR and @MLB - wouldn't it...   \n",
       "2  2020-07-25 12:27:14  @diane3443 @wdunlap @realDonaldTrump Trump nev...   \n",
       "3  2020-07-25 12:27:10  @brookbanktv The one gift #COVID19 has give me...   \n",
       "4  2020-07-25 12:27:08  25 July : Media Bulletin on Novel #CoronaVirus...   \n",
       "\n",
       "                            hashtags               source  is_retweet  \n",
       "0                                NaN   Twitter for iPhone       False  \n",
       "1                                NaN  Twitter for Android       False  \n",
       "2                        ['COVID19']  Twitter for Android       False  \n",
       "3                        ['COVID19']   Twitter for iPhone       False  \n",
       "4  ['CoronaVirusUpdates', 'COVID19']  Twitter for Android       False  "
      ]
     },
     "execution_count": 10,
     "metadata": {},
     "output_type": "execute_result"
    }
   ],
   "source": [
    "tweets.head()"
   ]
  },
  {
   "cell_type": "code",
   "execution_count": 11,
   "metadata": {},
   "outputs": [
    {
     "name": "stdout",
     "output_type": "stream",
     "text": [
      "<class 'pandas.core.frame.DataFrame'>\n",
      "RangeIndex: 179108 entries, 0 to 179107\n",
      "Data columns (total 13 columns):\n",
      " #   Column            Non-Null Count   Dtype \n",
      "---  ------            --------------   ----- \n",
      " 0   user_name         179108 non-null  object\n",
      " 1   user_location     142337 non-null  object\n",
      " 2   user_description  168822 non-null  object\n",
      " 3   user_created      179108 non-null  object\n",
      " 4   user_followers    179108 non-null  int64 \n",
      " 5   user_friends      179108 non-null  int64 \n",
      " 6   user_favourites   179108 non-null  int64 \n",
      " 7   user_verified     179108 non-null  bool  \n",
      " 8   date              179108 non-null  object\n",
      " 9   text              179108 non-null  object\n",
      " 10  hashtags          127774 non-null  object\n",
      " 11  source            179031 non-null  object\n",
      " 12  is_retweet        179108 non-null  bool  \n",
      "dtypes: bool(2), int64(3), object(8)\n",
      "memory usage: 15.4+ MB\n",
      "None\n",
      "\n",
      "shape of the data set is ===>  (179108, 13)\n"
     ]
    }
   ],
   "source": [
    "print(tweets.info())\n",
    "print()\n",
    "print(\"shape of the data set is ===> \",tweets.shape)\n"
   ]
  },
  {
   "cell_type": "markdown",
   "metadata": {},
   "source": [
    "# Exploratory analysis"
   ]
  },
  {
   "cell_type": "code",
   "execution_count": 12,
   "metadata": {},
   "outputs": [
    {
     "data": {
      "text/plain": [
       "GlobalPandemic.NET      679\n",
       "Coronavirus Updates     625\n",
       "covidnews.ch            402\n",
       "Open Letters            390\n",
       "Blood Donors India      282\n",
       "                       ... \n",
       "Kevin McDonald            1\n",
       "Patty Lorence             1\n",
       "Farhaan Uddin Ahmed       1\n",
       "William D. Jefferson      1\n",
       "TheJuanCarlosShow         1\n",
       "Name: user_name, Length: 92276, dtype: int64"
      ]
     },
     "execution_count": 12,
     "metadata": {},
     "output_type": "execute_result"
    }
   ],
   "source": [
    "# number of tweet of the user\n",
    "\n",
    "tweets['user_name'].value_counts()"
   ]
  },
  {
   "cell_type": "markdown",
   "metadata": {},
   "source": [
    "### Top 5 user by nuber of tweet"
   ]
  },
  {
   "cell_type": "code",
   "execution_count": 13,
   "metadata": {},
   "outputs": [
    {
     "data": {
      "image/png": "[encoded data removed]",
      "text/plain": [
       "<Figure size 800x600 with 1 Axes>"
      ]
     },
     "metadata": {
      "needs_background": "light"
     },
     "output_type": "display_data"
    }
   ],
   "source": [
    "\n",
    "num_tweets = tweets['user_name'].value_counts().reset_index()\n",
    "num_tweets.columns = ['user_name', 'Number_of_tweets']\n",
    "\n",
    "\n",
    "sns.barplot(x = \"Number_of_tweets\", y = \"user_name\", data = num_tweets.head(5))\n",
    "plt.show()"
   ]
  },
  {
   "cell_type": "markdown",
   "metadata": {},
   "source": [
    "### Top 5 Number of Tweets by location"
   ]
  },
  {
   "cell_type": "code",
   "execution_count": 14,
   "metadata": {},
   "outputs": [
    {
     "data": {
      "image/png": "[encoded data removed]",
      "text/plain": [
       "<Figure size 800x600 with 1 Axes>"
      ]
     },
     "metadata": {
      "needs_background": "light"
     },
     "output_type": "display_data"
    }
   ],
   "source": [
    "location = tweets['user_location'].value_counts().reset_index()\n",
    "location.columns = ['user_location', 'count']\n",
    "location = location[location['user_location'] != 'NA']\n",
    "location = location.sort_values(['count'], ascending = False)\n",
    "\n",
    "sns.barplot(x=\"count\", y = \"user_location\", data = location.head(5))\n",
    "plt.show()"
   ]
  },
  {
   "cell_type": "markdown",
   "metadata": {},
   "source": [
    "# Data cleaning "
   ]
  },
  {
   "cell_type": "code",
   "execution_count": 15,
   "metadata": {},
   "outputs": [],
   "source": [
    "import re\n",
    "import nltk\n",
    "from nltk.corpus import stopwords\n",
    "from nltk.tokenize import word_tokenize\n",
    "from nltk.stem import PorterStemmer\n",
    "from nltk.probability import FreqDist\n",
    "\n",
    "from textblob import TextBlob\n",
    "from textblob import Word\n",
    "\n",
    "\n",
    "stop_words = set(stopwords.words('english'))\n"
   ]
  },
  {
   "cell_type": "code",
   "execution_count": 16,
   "metadata": {},
   "outputs": [],
   "source": [
    "# drop columns\n",
    "tweets.drop(tweets.columns.difference(['text','date']), 1, inplace=True)"
   ]
  },
  {
   "cell_type": "code",
   "execution_count": 17,
   "metadata": {},
   "outputs": [
    {
     "data": {
      "text/html": [
       "<div>\n",
       "<style scoped>\n",
       "    .dataframe tbody tr th:only-of-type {\n",
       "        vertical-align: middle;\n",
       "    }\n",
       "\n",
       "    .dataframe tbody tr th {\n",
       "        vertical-align: top;\n",
       "    }\n",
       "\n",
       "    .dataframe thead th {\n",
       "        text-align: right;\n",
       "    }\n",
       "</style>\n",
       "<table border=\"1\" class=\"dataframe\">\n",
       "  <thead>\n",
       "    <tr style=\"text-align: right;\">\n",
       "      <th></th>\n",
       "      <th>date</th>\n",
       "      <th>text</th>\n",
       "    </tr>\n",
       "  </thead>\n",
       "  <tbody>\n",
       "    <tr>\n",
       "      <th>0</th>\n",
       "      <td>2020-07-25 12:27:21</td>\n",
       "      <td>If I smelled the scent of hand sanitizers toda...</td>\n",
       "    </tr>\n",
       "    <tr>\n",
       "      <th>1</th>\n",
       "      <td>2020-07-25 12:27:17</td>\n",
       "      <td>Hey @Yankees @YankeesPR and @MLB - wouldn't it...</td>\n",
       "    </tr>\n",
       "    <tr>\n",
       "      <th>2</th>\n",
       "      <td>2020-07-25 12:27:14</td>\n",
       "      <td>@diane3443 @wdunlap @realDonaldTrump Trump nev...</td>\n",
       "    </tr>\n",
       "    <tr>\n",
       "      <th>3</th>\n",
       "      <td>2020-07-25 12:27:10</td>\n",
       "      <td>@brookbanktv The one gift #COVID19 has give me...</td>\n",
       "    </tr>\n",
       "    <tr>\n",
       "      <th>4</th>\n",
       "      <td>2020-07-25 12:27:08</td>\n",
       "      <td>25 July : Media Bulletin on Novel #CoronaVirus...</td>\n",
       "    </tr>\n",
       "  </tbody>\n",
       "</table>\n",
       "</div>"
      ],
      "text/plain": [
       "                  date                                               text\n",
       "0  2020-07-25 12:27:21  If I smelled the scent of hand sanitizers toda...\n",
       "1  2020-07-25 12:27:17  Hey @Yankees @YankeesPR and @MLB - wouldn't it...\n",
       "2  2020-07-25 12:27:14  @diane3443 @wdunlap @realDonaldTrump Trump nev...\n",
       "3  2020-07-25 12:27:10  @brookbanktv The one gift #COVID19 has give me...\n",
       "4  2020-07-25 12:27:08  25 July : Media Bulletin on Novel #CoronaVirus..."
      ]
     },
     "execution_count": 17,
     "metadata": {},
     "output_type": "execute_result"
    }
   ],
   "source": [
    "tweets.head()"
   ]
  },
  {
   "cell_type": "code",
   "execution_count": 18,
   "metadata": {},
   "outputs": [],
   "source": [
    "def tweet_scrubber(text):\n",
    "   \n",
    "    # Make tweets all lower case\n",
    "    text = text.lower()\n",
    "#     # Remove Mentions\n",
    "    text = re.sub(r'@[A-Za-z0-9_]+','',text)\n",
    "#     # Remove URLs,Numbers,Special Characters, and Punctuations  \n",
    "    to_remove = r'\\d+|http?\\S+|[^A-Za-z0-9]+'\n",
    "    text = re.sub(to_remove, \" \", text)\n",
    "    return text"
   ]
  },
  {
   "cell_type": "code",
   "execution_count": 19,
   "metadata": {},
   "outputs": [],
   "source": [
    "def lemm_and_stem(text, stem=False, lemmatize=False):\n",
    "        \n",
    "    clean_text = []\n",
    "    words = word_tokenize(text) \n",
    "    # Remove stopwords and stem\n",
    "    for word in words:\n",
    "        if not word in stop_words:\n",
    "            if lemmatize:\n",
    "                clean_text.append(Word(word).lemmatize())\n",
    "            else:\n",
    "                clean_text.append(word)\n",
    "            \n",
    "    return clean_text"
   ]
  },
  {
   "cell_type": "code",
   "execution_count": 20,
   "metadata": {},
   "outputs": [],
   "source": [
    "tweets.text = tweets.text.apply(lambda x: lemm_and_stem(tweet_scrubber(x), lemmatize=True))\n"
   ]
  },
  {
   "cell_type": "code",
   "execution_count": 21,
   "metadata": {},
   "outputs": [
    {
     "data": {
      "text/plain": [
       "0    [smelled, scent, hand, sanitizers, today, some...\n",
       "1             [hey, made, sense, player, pay, respect]\n",
       "2    [trump, never, claimed, covid, hoax, claim, ef...\n",
       "3    [one, gift, covid, give, appreciation, simple,...\n",
       "4    [july, medium, bulletin, novel, coronavirusupd...\n",
       "Name: text, dtype: object"
      ]
     },
     "execution_count": 21,
     "metadata": {},
     "output_type": "execute_result"
    }
   ],
   "source": [
    "tweets.text.head()\n"
   ]
  },
  {
   "cell_type": "code",
   "execution_count": 22,
   "metadata": {},
   "outputs": [],
   "source": [
    "sentences = tweets.text"
   ]
  },
  {
   "cell_type": "code",
   "execution_count": 23,
   "metadata": {},
   "outputs": [
    {
     "data": {
      "text/plain": [
       "['voice',\n",
       " 'belt',\n",
       " 'road',\n",
       " 'covid',\n",
       " 'rap',\n",
       " 'song',\n",
       " 'alert',\n",
       " 'needed',\n",
       " 'precaution',\n",
       " 'returning',\n",
       " 'work',\n",
       " 'beltandroad']"
      ]
     },
     "execution_count": 23,
     "metadata": {},
     "output_type": "execute_result"
    }
   ],
   "source": [
    "sentences[100]"
   ]
  },
  {
   "cell_type": "code",
   "execution_count": 24,
   "metadata": {},
   "outputs": [],
   "source": [
    "submission_sents = []\n",
    "for sent in sentences:\n",
    "  submission_sents.append(\" \".join(sent))"
   ]
  },
  {
   "cell_type": "code",
   "execution_count": 25,
   "metadata": {},
   "outputs": [
    {
     "data": {
      "text/html": [
       "<div>\n",
       "<style scoped>\n",
       "    .dataframe tbody tr th:only-of-type {\n",
       "        vertical-align: middle;\n",
       "    }\n",
       "\n",
       "    .dataframe tbody tr th {\n",
       "        vertical-align: top;\n",
       "    }\n",
       "\n",
       "    .dataframe thead th {\n",
       "        text-align: right;\n",
       "    }\n",
       "</style>\n",
       "<table border=\"1\" class=\"dataframe\">\n",
       "  <thead>\n",
       "    <tr style=\"text-align: right;\">\n",
       "      <th></th>\n",
       "      <th>text</th>\n",
       "      <th>date</th>\n",
       "    </tr>\n",
       "  </thead>\n",
       "  <tbody>\n",
       "    <tr>\n",
       "      <th>0</th>\n",
       "      <td>smelled scent hand sanitizers today someone pa...</td>\n",
       "      <td>2020-07-25 12:27:21</td>\n",
       "    </tr>\n",
       "    <tr>\n",
       "      <th>1</th>\n",
       "      <td>hey made sense player pay respect</td>\n",
       "      <td>2020-07-25 12:27:17</td>\n",
       "    </tr>\n",
       "    <tr>\n",
       "      <th>2</th>\n",
       "      <td>trump never claimed covid hoax claim effort</td>\n",
       "      <td>2020-07-25 12:27:14</td>\n",
       "    </tr>\n",
       "    <tr>\n",
       "      <th>3</th>\n",
       "      <td>one gift covid give appreciation simple thing ...</td>\n",
       "      <td>2020-07-25 12:27:10</td>\n",
       "    </tr>\n",
       "    <tr>\n",
       "      <th>4</th>\n",
       "      <td>july medium bulletin novel coronavirusupdates ...</td>\n",
       "      <td>2020-07-25 12:27:08</td>\n",
       "    </tr>\n",
       "  </tbody>\n",
       "</table>\n",
       "</div>"
      ],
      "text/plain": [
       "                                                text                 date\n",
       "0  smelled scent hand sanitizers today someone pa...  2020-07-25 12:27:21\n",
       "1                  hey made sense player pay respect  2020-07-25 12:27:17\n",
       "2        trump never claimed covid hoax claim effort  2020-07-25 12:27:14\n",
       "3  one gift covid give appreciation simple thing ...  2020-07-25 12:27:10\n",
       "4  july medium bulletin novel coronavirusupdates ...  2020-07-25 12:27:08"
      ]
     },
     "execution_count": 25,
     "metadata": {},
     "output_type": "execute_result"
    }
   ],
   "source": [
    "submission_df = pd.DataFrame(dict(text = submission_sents, date = tweets['date']))\n",
    "submission_df.head()"
   ]
  },
  {
   "cell_type": "code",
   "execution_count": 26,
   "metadata": {},
   "outputs": [],
   "source": [
    "submission_df[\"date-day\"] = submission_df[\"date\"].apply(lambda x: x.split(\" \")[0] if type(x) == str else x)"
   ]
  },
  {
   "cell_type": "code",
   "execution_count": 27,
   "metadata": {},
   "outputs": [
    {
     "data": {
      "text/html": [
       "<div>\n",
       "<style scoped>\n",
       "    .dataframe tbody tr th:only-of-type {\n",
       "        vertical-align: middle;\n",
       "    }\n",
       "\n",
       "    .dataframe tbody tr th {\n",
       "        vertical-align: top;\n",
       "    }\n",
       "\n",
       "    .dataframe thead th {\n",
       "        text-align: right;\n",
       "    }\n",
       "</style>\n",
       "<table border=\"1\" class=\"dataframe\">\n",
       "  <thead>\n",
       "    <tr style=\"text-align: right;\">\n",
       "      <th></th>\n",
       "      <th>text</th>\n",
       "      <th>date</th>\n",
       "      <th>date-day</th>\n",
       "    </tr>\n",
       "  </thead>\n",
       "  <tbody>\n",
       "    <tr>\n",
       "      <th>0</th>\n",
       "      <td>smelled scent hand sanitizers today someone pa...</td>\n",
       "      <td>2020-07-25 12:27:21</td>\n",
       "      <td>2020-07-25</td>\n",
       "    </tr>\n",
       "    <tr>\n",
       "      <th>1</th>\n",
       "      <td>hey made sense player pay respect</td>\n",
       "      <td>2020-07-25 12:27:17</td>\n",
       "      <td>2020-07-25</td>\n",
       "    </tr>\n",
       "    <tr>\n",
       "      <th>2</th>\n",
       "      <td>trump never claimed covid hoax claim effort</td>\n",
       "      <td>2020-07-25 12:27:14</td>\n",
       "      <td>2020-07-25</td>\n",
       "    </tr>\n",
       "    <tr>\n",
       "      <th>3</th>\n",
       "      <td>one gift covid give appreciation simple thing ...</td>\n",
       "      <td>2020-07-25 12:27:10</td>\n",
       "      <td>2020-07-25</td>\n",
       "    </tr>\n",
       "    <tr>\n",
       "      <th>4</th>\n",
       "      <td>july medium bulletin novel coronavirusupdates ...</td>\n",
       "      <td>2020-07-25 12:27:08</td>\n",
       "      <td>2020-07-25</td>\n",
       "    </tr>\n",
       "  </tbody>\n",
       "</table>\n",
       "</div>"
      ],
      "text/plain": [
       "                                                text                 date  \\\n",
       "0  smelled scent hand sanitizers today someone pa...  2020-07-25 12:27:21   \n",
       "1                  hey made sense player pay respect  2020-07-25 12:27:17   \n",
       "2        trump never claimed covid hoax claim effort  2020-07-25 12:27:14   \n",
       "3  one gift covid give appreciation simple thing ...  2020-07-25 12:27:10   \n",
       "4  july medium bulletin novel coronavirusupdates ...  2020-07-25 12:27:08   \n",
       "\n",
       "     date-day  \n",
       "0  2020-07-25  \n",
       "1  2020-07-25  \n",
       "2  2020-07-25  \n",
       "3  2020-07-25  \n",
       "4  2020-07-25  "
      ]
     },
     "execution_count": 27,
     "metadata": {},
     "output_type": "execute_result"
    }
   ],
   "source": [
    "submission_df.head()"
   ]
  },
  {
   "cell_type": "code",
   "execution_count": 28,
   "metadata": {},
   "outputs": [
    {
     "data": {
      "text/plain": [
       "array(['2020-07-25', '2020-07-24', '2020-07-26', '2020-07-27',\n",
       "       '2020-07-28', '2020-07-29', '2020-07-30', '2020-07-31',\n",
       "       '2020-08-01', '2020-08-02', '2020-08-04', '2020-08-06',\n",
       "       '2020-08-07', '2020-08-08', '2020-08-09', '2020-08-10',\n",
       "       '2020-08-11', '2020-08-12', '2020-08-13', '2020-08-14',\n",
       "       '2020-08-16', '2020-08-17', '2020-08-18', '2020-08-22',\n",
       "       '2020-08-30', '2020-08-29'], dtype=object)"
      ]
     },
     "execution_count": 28,
     "metadata": {},
     "output_type": "execute_result"
    }
   ],
   "source": [
    "submission_df[\"date-day\"].unique()"
   ]
  },
  {
   "cell_type": "code",
   "execution_count": 29,
   "metadata": {},
   "outputs": [],
   "source": [
    "submission_df[\"date-day\"] = pd.to_datetime(submission_df[\"date-day\"])"
   ]
  },
  {
   "cell_type": "code",
   "execution_count": 30,
   "metadata": {},
   "outputs": [
    {
     "data": {
      "text/html": [
       "<div>\n",
       "<style scoped>\n",
       "    .dataframe tbody tr th:only-of-type {\n",
       "        vertical-align: middle;\n",
       "    }\n",
       "\n",
       "    .dataframe tbody tr th {\n",
       "        vertical-align: top;\n",
       "    }\n",
       "\n",
       "    .dataframe thead th {\n",
       "        text-align: right;\n",
       "    }\n",
       "</style>\n",
       "<table border=\"1\" class=\"dataframe\">\n",
       "  <thead>\n",
       "    <tr style=\"text-align: right;\">\n",
       "      <th></th>\n",
       "      <th>text</th>\n",
       "      <th>date</th>\n",
       "      <th>date-day</th>\n",
       "    </tr>\n",
       "  </thead>\n",
       "  <tbody>\n",
       "    <tr>\n",
       "      <th>0</th>\n",
       "      <td>smelled scent hand sanitizers today someone pa...</td>\n",
       "      <td>2020-07-25 12:27:21</td>\n",
       "      <td>2020-07-25</td>\n",
       "    </tr>\n",
       "    <tr>\n",
       "      <th>1</th>\n",
       "      <td>hey made sense player pay respect</td>\n",
       "      <td>2020-07-25 12:27:17</td>\n",
       "      <td>2020-07-25</td>\n",
       "    </tr>\n",
       "    <tr>\n",
       "      <th>2</th>\n",
       "      <td>trump never claimed covid hoax claim effort</td>\n",
       "      <td>2020-07-25 12:27:14</td>\n",
       "      <td>2020-07-25</td>\n",
       "    </tr>\n",
       "    <tr>\n",
       "      <th>3</th>\n",
       "      <td>one gift covid give appreciation simple thing ...</td>\n",
       "      <td>2020-07-25 12:27:10</td>\n",
       "      <td>2020-07-25</td>\n",
       "    </tr>\n",
       "    <tr>\n",
       "      <th>4</th>\n",
       "      <td>july medium bulletin novel coronavirusupdates ...</td>\n",
       "      <td>2020-07-25 12:27:08</td>\n",
       "      <td>2020-07-25</td>\n",
       "    </tr>\n",
       "  </tbody>\n",
       "</table>\n",
       "</div>"
      ],
      "text/plain": [
       "                                                text                 date  \\\n",
       "0  smelled scent hand sanitizers today someone pa...  2020-07-25 12:27:21   \n",
       "1                  hey made sense player pay respect  2020-07-25 12:27:17   \n",
       "2        trump never claimed covid hoax claim effort  2020-07-25 12:27:14   \n",
       "3  one gift covid give appreciation simple thing ...  2020-07-25 12:27:10   \n",
       "4  july medium bulletin novel coronavirusupdates ...  2020-07-25 12:27:08   \n",
       "\n",
       "    date-day  \n",
       "0 2020-07-25  \n",
       "1 2020-07-25  \n",
       "2 2020-07-25  \n",
       "3 2020-07-25  \n",
       "4 2020-07-25  "
      ]
     },
     "execution_count": 30,
     "metadata": {},
     "output_type": "execute_result"
    }
   ],
   "source": [
    "submission_df.head()"
   ]
  },
  {
   "cell_type": "code",
   "execution_count": 31,
   "metadata": {},
   "outputs": [
    {
     "name": "stdout",
     "output_type": "stream",
     "text": [
      "<class 'pandas.core.frame.DataFrame'>\n",
      "RangeIndex: 179108 entries, 0 to 179107\n",
      "Data columns (total 3 columns):\n",
      " #   Column    Non-Null Count   Dtype         \n",
      "---  ------    --------------   -----         \n",
      " 0   text      179108 non-null  object        \n",
      " 1   date      179108 non-null  object        \n",
      " 2   date-day  179108 non-null  datetime64[ns]\n",
      "dtypes: datetime64[ns](1), object(2)\n",
      "memory usage: 4.1+ MB\n"
     ]
    }
   ],
   "source": [
    "submission_df.info()"
   ]
  },
  {
   "cell_type": "code",
   "execution_count": 32,
   "metadata": {},
   "outputs": [
    {
     "data": {
      "text/plain": [
       "5"
      ]
     },
     "execution_count": 32,
     "metadata": {},
     "output_type": "execute_result"
    }
   ],
   "source": [
    "submission_df.loc[0, \"date-day\"].date().weekday()"
   ]
  },
  {
   "cell_type": "code",
   "execution_count": 33,
   "metadata": {},
   "outputs": [
    {
     "data": {
      "text/plain": [
       "Timestamp('2020-07-24 00:00:00')"
      ]
     },
     "execution_count": 33,
     "metadata": {},
     "output_type": "execute_result"
    }
   ],
   "source": [
    "submission_df[\"date-day\"].min() # The first day of the tweets"
   ]
  },
  {
   "cell_type": "code",
   "execution_count": 34,
   "metadata": {},
   "outputs": [
    {
     "data": {
      "text/plain": [
       "4"
      ]
     },
     "execution_count": 34,
     "metadata": {},
     "output_type": "execute_result"
    }
   ],
   "source": [
    "submission_df[\"date-day\"].min().date().weekday() # The first day of the tweets is Wedensday"
   ]
  },
  {
   "cell_type": "code",
   "execution_count": 35,
   "metadata": {},
   "outputs": [
    {
     "data": {
      "text/plain": [
       "Timestamp('2020-08-30 00:00:00')"
      ]
     },
     "execution_count": 35,
     "metadata": {},
     "output_type": "execute_result"
    }
   ],
   "source": [
    "submission_df[\"date-day\"].max()"
   ]
  },
  {
   "cell_type": "code",
   "execution_count": 36,
   "metadata": {},
   "outputs": [],
   "source": [
    "from datetime import datetime"
   ]
  },
  {
   "cell_type": "code",
   "execution_count": 37,
   "metadata": {},
   "outputs": [],
   "source": [
    "start_date = datetime.strptime(\"2020-07-19\", \"%Y-%m-%d\").date() # Starting day of the week is Sunday.\n"
   ]
  },
  {
   "cell_type": "code",
   "execution_count": 38,
   "metadata": {},
   "outputs": [],
   "source": [
    "end_date = submission_df[\"date-day\"].max().date()\n"
   ]
  },
  {
   "cell_type": "code",
   "execution_count": 39,
   "metadata": {},
   "outputs": [],
   "source": [
    "def week_number(d):\n",
    "  try:\n",
    "    return (d.date() - start_date).days // 7 # 7 is for per week\n",
    "  except:\n",
    "    return 0"
   ]
  },
  {
   "cell_type": "code",
   "execution_count": 40,
   "metadata": {},
   "outputs": [],
   "source": [
    "submission_df[\"week-number\"] = submission_df[\"date-day\"].apply(week_number)"
   ]
  },
  {
   "cell_type": "code",
   "execution_count": 41,
   "metadata": {},
   "outputs": [
    {
     "data": {
      "text/html": [
       "<div>\n",
       "<style scoped>\n",
       "    .dataframe tbody tr th:only-of-type {\n",
       "        vertical-align: middle;\n",
       "    }\n",
       "\n",
       "    .dataframe tbody tr th {\n",
       "        vertical-align: top;\n",
       "    }\n",
       "\n",
       "    .dataframe thead th {\n",
       "        text-align: right;\n",
       "    }\n",
       "</style>\n",
       "<table border=\"1\" class=\"dataframe\">\n",
       "  <thead>\n",
       "    <tr style=\"text-align: right;\">\n",
       "      <th></th>\n",
       "      <th>text</th>\n",
       "      <th>date</th>\n",
       "      <th>date-day</th>\n",
       "      <th>week-number</th>\n",
       "    </tr>\n",
       "  </thead>\n",
       "  <tbody>\n",
       "    <tr>\n",
       "      <th>0</th>\n",
       "      <td>smelled scent hand sanitizers today someone pa...</td>\n",
       "      <td>2020-07-25 12:27:21</td>\n",
       "      <td>2020-07-25</td>\n",
       "      <td>0</td>\n",
       "    </tr>\n",
       "    <tr>\n",
       "      <th>1</th>\n",
       "      <td>hey made sense player pay respect</td>\n",
       "      <td>2020-07-25 12:27:17</td>\n",
       "      <td>2020-07-25</td>\n",
       "      <td>0</td>\n",
       "    </tr>\n",
       "    <tr>\n",
       "      <th>2</th>\n",
       "      <td>trump never claimed covid hoax claim effort</td>\n",
       "      <td>2020-07-25 12:27:14</td>\n",
       "      <td>2020-07-25</td>\n",
       "      <td>0</td>\n",
       "    </tr>\n",
       "    <tr>\n",
       "      <th>3</th>\n",
       "      <td>one gift covid give appreciation simple thing ...</td>\n",
       "      <td>2020-07-25 12:27:10</td>\n",
       "      <td>2020-07-25</td>\n",
       "      <td>0</td>\n",
       "    </tr>\n",
       "    <tr>\n",
       "      <th>4</th>\n",
       "      <td>july medium bulletin novel coronavirusupdates ...</td>\n",
       "      <td>2020-07-25 12:27:08</td>\n",
       "      <td>2020-07-25</td>\n",
       "      <td>0</td>\n",
       "    </tr>\n",
       "  </tbody>\n",
       "</table>\n",
       "</div>"
      ],
      "text/plain": [
       "                                                text                 date  \\\n",
       "0  smelled scent hand sanitizers today someone pa...  2020-07-25 12:27:21   \n",
       "1                  hey made sense player pay respect  2020-07-25 12:27:17   \n",
       "2        trump never claimed covid hoax claim effort  2020-07-25 12:27:14   \n",
       "3  one gift covid give appreciation simple thing ...  2020-07-25 12:27:10   \n",
       "4  july medium bulletin novel coronavirusupdates ...  2020-07-25 12:27:08   \n",
       "\n",
       "    date-day  week-number  \n",
       "0 2020-07-25            0  \n",
       "1 2020-07-25            0  \n",
       "2 2020-07-25            0  \n",
       "3 2020-07-25            0  \n",
       "4 2020-07-25            0  "
      ]
     },
     "execution_count": 41,
     "metadata": {},
     "output_type": "execute_result"
    }
   ],
   "source": [
    "submission_df.head()"
   ]
  },
  {
   "cell_type": "code",
   "execution_count": 42,
   "metadata": {},
   "outputs": [
    {
     "data": {
      "text/plain": [
       "array([0, 1, 2, 3, 4, 6, 5])"
      ]
     },
     "execution_count": 42,
     "metadata": {},
     "output_type": "execute_result"
    }
   ],
   "source": [
    "submission_df[\"week-number\"].unique()"
   ]
  },
  {
   "cell_type": "code",
   "execution_count": 43,
   "metadata": {},
   "outputs": [
    {
     "data": {
      "text/html": [
       "<div>\n",
       "<style scoped>\n",
       "    .dataframe tbody tr th:only-of-type {\n",
       "        vertical-align: middle;\n",
       "    }\n",
       "\n",
       "    .dataframe tbody tr th {\n",
       "        vertical-align: top;\n",
       "    }\n",
       "\n",
       "    .dataframe thead th {\n",
       "        text-align: right;\n",
       "    }\n",
       "</style>\n",
       "<table border=\"1\" class=\"dataframe\">\n",
       "  <thead>\n",
       "    <tr style=\"text-align: right;\">\n",
       "      <th></th>\n",
       "      <th>text</th>\n",
       "      <th>date</th>\n",
       "      <th>date-day</th>\n",
       "      <th>week-number</th>\n",
       "    </tr>\n",
       "  </thead>\n",
       "  <tbody>\n",
       "    <tr>\n",
       "      <th>179103</th>\n",
       "      <td>thanks nominating wearamask challenge nominate</td>\n",
       "      <td>2020-08-29 19:44:21</td>\n",
       "      <td>2020-08-29</td>\n",
       "      <td>5</td>\n",
       "    </tr>\n",
       "    <tr>\n",
       "      <th>179104</th>\n",
       "      <td>year insanity lol covid</td>\n",
       "      <td>2020-08-29 19:44:16</td>\n",
       "      <td>2020-08-29</td>\n",
       "      <td>5</td>\n",
       "    </tr>\n",
       "    <tr>\n",
       "      <th>179105</th>\n",
       "      <td>powerful painting juan lucena tribute grandpar...</td>\n",
       "      <td>2020-08-29 19:44:15</td>\n",
       "      <td>2020-08-29</td>\n",
       "      <td>5</td>\n",
       "    </tr>\n",
       "    <tr>\n",
       "      <th>179106</th>\n",
       "      <td>student test positive covid major university a...</td>\n",
       "      <td>2020-08-29 19:44:14</td>\n",
       "      <td>2020-08-29</td>\n",
       "      <td>5</td>\n",
       "    </tr>\n",
       "    <tr>\n",
       "      <th>179107</th>\n",
       "      <td>stop see stop</td>\n",
       "      <td>2020-08-29 19:44:08</td>\n",
       "      <td>2020-08-29</td>\n",
       "      <td>5</td>\n",
       "    </tr>\n",
       "  </tbody>\n",
       "</table>\n",
       "</div>"
      ],
      "text/plain": [
       "                                                     text  \\\n",
       "179103     thanks nominating wearamask challenge nominate   \n",
       "179104                            year insanity lol covid   \n",
       "179105  powerful painting juan lucena tribute grandpar...   \n",
       "179106  student test positive covid major university a...   \n",
       "179107                                      stop see stop   \n",
       "\n",
       "                       date   date-day  week-number  \n",
       "179103  2020-08-29 19:44:21 2020-08-29            5  \n",
       "179104  2020-08-29 19:44:16 2020-08-29            5  \n",
       "179105  2020-08-29 19:44:15 2020-08-29            5  \n",
       "179106  2020-08-29 19:44:14 2020-08-29            5  \n",
       "179107  2020-08-29 19:44:08 2020-08-29            5  "
      ]
     },
     "execution_count": 43,
     "metadata": {},
     "output_type": "execute_result"
    }
   ],
   "source": [
    "submission_df.tail()"
   ]
  },
  {
   "cell_type": "code",
   "execution_count": 44,
   "metadata": {},
   "outputs": [],
   "source": [
    "week_1 = submission_df[submission_df[\"week-number\"]==0]"
   ]
  },
  {
   "cell_type": "code",
   "execution_count": 45,
   "metadata": {},
   "outputs": [
    {
     "data": {
      "text/html": [
       "<div>\n",
       "<style scoped>\n",
       "    .dataframe tbody tr th:only-of-type {\n",
       "        vertical-align: middle;\n",
       "    }\n",
       "\n",
       "    .dataframe tbody tr th {\n",
       "        vertical-align: top;\n",
       "    }\n",
       "\n",
       "    .dataframe thead th {\n",
       "        text-align: right;\n",
       "    }\n",
       "</style>\n",
       "<table border=\"1\" class=\"dataframe\">\n",
       "  <thead>\n",
       "    <tr style=\"text-align: right;\">\n",
       "      <th></th>\n",
       "      <th>text</th>\n",
       "      <th>date</th>\n",
       "      <th>date-day</th>\n",
       "      <th>week-number</th>\n",
       "    </tr>\n",
       "  </thead>\n",
       "  <tbody>\n",
       "    <tr>\n",
       "      <th>0</th>\n",
       "      <td>smelled scent hand sanitizers today someone pa...</td>\n",
       "      <td>2020-07-25 12:27:21</td>\n",
       "      <td>2020-07-25</td>\n",
       "      <td>0</td>\n",
       "    </tr>\n",
       "    <tr>\n",
       "      <th>1</th>\n",
       "      <td>hey made sense player pay respect</td>\n",
       "      <td>2020-07-25 12:27:17</td>\n",
       "      <td>2020-07-25</td>\n",
       "      <td>0</td>\n",
       "    </tr>\n",
       "    <tr>\n",
       "      <th>2</th>\n",
       "      <td>trump never claimed covid hoax claim effort</td>\n",
       "      <td>2020-07-25 12:27:14</td>\n",
       "      <td>2020-07-25</td>\n",
       "      <td>0</td>\n",
       "    </tr>\n",
       "    <tr>\n",
       "      <th>3</th>\n",
       "      <td>one gift covid give appreciation simple thing ...</td>\n",
       "      <td>2020-07-25 12:27:10</td>\n",
       "      <td>2020-07-25</td>\n",
       "      <td>0</td>\n",
       "    </tr>\n",
       "    <tr>\n",
       "      <th>4</th>\n",
       "      <td>july medium bulletin novel coronavirusupdates ...</td>\n",
       "      <td>2020-07-25 12:27:08</td>\n",
       "      <td>2020-07-25</td>\n",
       "      <td>0</td>\n",
       "    </tr>\n",
       "    <tr>\n",
       "      <th>...</th>\n",
       "      <td>...</td>\n",
       "      <td>...</td>\n",
       "      <td>...</td>\n",
       "      <td>...</td>\n",
       "    </tr>\n",
       "    <tr>\n",
       "      <th>17171</th>\n",
       "      <td>apparently timberlea store fort mcmurray emplo...</td>\n",
       "      <td>2020-07-24 23:47:13</td>\n",
       "      <td>2020-07-24</td>\n",
       "      <td>0</td>\n",
       "    </tr>\n",
       "    <tr>\n",
       "      <th>17172</th>\n",
       "      <td>take eye ball still protest going people dying...</td>\n",
       "      <td>2020-07-24 23:47:12</td>\n",
       "      <td>2020-07-24</td>\n",
       "      <td>0</td>\n",
       "    </tr>\n",
       "    <tr>\n",
       "      <th>17173</th>\n",
       "      <td>excellent partnership prevent covid thank shar...</td>\n",
       "      <td>2020-07-24 23:47:12</td>\n",
       "      <td>2020-07-24</td>\n",
       "      <td>0</td>\n",
       "    </tr>\n",
       "    <tr>\n",
       "      <th>17174</th>\n",
       "      <td>always honored speak w critical covid health i...</td>\n",
       "      <td>2020-07-24 23:47:12</td>\n",
       "      <td>2020-07-24</td>\n",
       "      <td>0</td>\n",
       "    </tr>\n",
       "    <tr>\n",
       "      <th>17175</th>\n",
       "      <td>protestors needed pm pm daily e mckinney dento...</td>\n",
       "      <td>2020-07-24 23:47:08</td>\n",
       "      <td>2020-07-24</td>\n",
       "      <td>0</td>\n",
       "    </tr>\n",
       "  </tbody>\n",
       "</table>\n",
       "<p>17176 rows × 4 columns</p>\n",
       "</div>"
      ],
      "text/plain": [
       "                                                    text                 date  \\\n",
       "0      smelled scent hand sanitizers today someone pa...  2020-07-25 12:27:21   \n",
       "1                      hey made sense player pay respect  2020-07-25 12:27:17   \n",
       "2            trump never claimed covid hoax claim effort  2020-07-25 12:27:14   \n",
       "3      one gift covid give appreciation simple thing ...  2020-07-25 12:27:10   \n",
       "4      july medium bulletin novel coronavirusupdates ...  2020-07-25 12:27:08   \n",
       "...                                                  ...                  ...   \n",
       "17171  apparently timberlea store fort mcmurray emplo...  2020-07-24 23:47:13   \n",
       "17172  take eye ball still protest going people dying...  2020-07-24 23:47:12   \n",
       "17173  excellent partnership prevent covid thank shar...  2020-07-24 23:47:12   \n",
       "17174  always honored speak w critical covid health i...  2020-07-24 23:47:12   \n",
       "17175  protestors needed pm pm daily e mckinney dento...  2020-07-24 23:47:08   \n",
       "\n",
       "        date-day  week-number  \n",
       "0     2020-07-25            0  \n",
       "1     2020-07-25            0  \n",
       "2     2020-07-25            0  \n",
       "3     2020-07-25            0  \n",
       "4     2020-07-25            0  \n",
       "...          ...          ...  \n",
       "17171 2020-07-24            0  \n",
       "17172 2020-07-24            0  \n",
       "17173 2020-07-24            0  \n",
       "17174 2020-07-24            0  \n",
       "17175 2020-07-24            0  \n",
       "\n",
       "[17176 rows x 4 columns]"
      ]
     },
     "execution_count": 45,
     "metadata": {},
     "output_type": "execute_result"
    }
   ],
   "source": [
    "week_1"
   ]
  },
  {
   "cell_type": "code",
   "execution_count": 46,
   "metadata": {},
   "outputs": [],
   "source": [
    "submission_df= submission_df.drop(['date-day'], axis = 1) \n"
   ]
  },
  {
   "cell_type": "code",
   "execution_count": 47,
   "metadata": {},
   "outputs": [
    {
     "data": {
      "text/html": [
       "<div>\n",
       "<style scoped>\n",
       "    .dataframe tbody tr th:only-of-type {\n",
       "        vertical-align: middle;\n",
       "    }\n",
       "\n",
       "    .dataframe tbody tr th {\n",
       "        vertical-align: top;\n",
       "    }\n",
       "\n",
       "    .dataframe thead th {\n",
       "        text-align: right;\n",
       "    }\n",
       "</style>\n",
       "<table border=\"1\" class=\"dataframe\">\n",
       "  <thead>\n",
       "    <tr style=\"text-align: right;\">\n",
       "      <th></th>\n",
       "      <th>text</th>\n",
       "      <th>date</th>\n",
       "      <th>week-number</th>\n",
       "    </tr>\n",
       "  </thead>\n",
       "  <tbody>\n",
       "    <tr>\n",
       "      <th>0</th>\n",
       "      <td>smelled scent hand sanitizers today someone pa...</td>\n",
       "      <td>2020-07-25 12:27:21</td>\n",
       "      <td>0</td>\n",
       "    </tr>\n",
       "    <tr>\n",
       "      <th>1</th>\n",
       "      <td>hey made sense player pay respect</td>\n",
       "      <td>2020-07-25 12:27:17</td>\n",
       "      <td>0</td>\n",
       "    </tr>\n",
       "    <tr>\n",
       "      <th>2</th>\n",
       "      <td>trump never claimed covid hoax claim effort</td>\n",
       "      <td>2020-07-25 12:27:14</td>\n",
       "      <td>0</td>\n",
       "    </tr>\n",
       "    <tr>\n",
       "      <th>3</th>\n",
       "      <td>one gift covid give appreciation simple thing ...</td>\n",
       "      <td>2020-07-25 12:27:10</td>\n",
       "      <td>0</td>\n",
       "    </tr>\n",
       "    <tr>\n",
       "      <th>4</th>\n",
       "      <td>july medium bulletin novel coronavirusupdates ...</td>\n",
       "      <td>2020-07-25 12:27:08</td>\n",
       "      <td>0</td>\n",
       "    </tr>\n",
       "  </tbody>\n",
       "</table>\n",
       "</div>"
      ],
      "text/plain": [
       "                                                text                 date  \\\n",
       "0  smelled scent hand sanitizers today someone pa...  2020-07-25 12:27:21   \n",
       "1                  hey made sense player pay respect  2020-07-25 12:27:17   \n",
       "2        trump never claimed covid hoax claim effort  2020-07-25 12:27:14   \n",
       "3  one gift covid give appreciation simple thing ...  2020-07-25 12:27:10   \n",
       "4  july medium bulletin novel coronavirusupdates ...  2020-07-25 12:27:08   \n",
       "\n",
       "   week-number  \n",
       "0            0  \n",
       "1            0  \n",
       "2            0  \n",
       "3            0  \n",
       "4            0  "
      ]
     },
     "execution_count": 47,
     "metadata": {},
     "output_type": "execute_result"
    }
   ],
   "source": [
    "submission_df.head()"
   ]
  },
  {
   "cell_type": "code",
   "execution_count": 48,
   "metadata": {},
   "outputs": [],
   "source": [
    "submission_df.to_csv(\"../data/preprocessed_data.csv\", index=False)"
   ]
  }
 ],
 "metadata": {
  "kernelspec": {
   "display_name": "Python 3",
   "language": "python",
   "name": "python3"
  },
  "language_info": {
   "codemirror_mode": {
    "name": "ipython",
    "version": 3
   },
   "file_extension": ".py",
   "mimetype": "text/x-python",
   "name": "python",
   "nbconvert_exporter": "python",
   "pygments_lexer": "ipython3",
   "version": "3.6.12"
  }
 },
 "nbformat": 4,
 "nbformat_minor": 4
}
